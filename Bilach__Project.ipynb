{
  "nbformat": 4,
  "nbformat_minor": 0,
  "metadata": {
    "colab": {
      "name": "Bilach _Project.ipynb",
      "provenance": [],
      "collapsed_sections": [],
      "mount_file_id": "12dcVUl_b73NnInSCDZ18m3uoIuHPSvGI",
      "authorship_tag": "ABX9TyNy+Jg8RXvuRjOOr3xTeD0I",
      "include_colab_link": true
    },
    "kernelspec": {
      "name": "python3",
      "display_name": "Python 3"
    }
  },
  "cells": [
    {
      "cell_type": "markdown",
      "metadata": {
        "id": "view-in-github",
        "colab_type": "text"
      },
      "source": [
        "<a href=\"https://colab.research.google.com/github/tbilach13/Analysis_Police_Killings/blob/master/Bilach__Project.ipynb\" target=\"_parent\"><img src=\"https://colab.research.google.com/assets/colab-badge.svg\" alt=\"Open In Colab\"/></a>"
      ]
    },
    {
      "cell_type": "code",
      "metadata": {
        "id": "7xNg9jiA015Z",
        "colab_type": "code",
        "colab": {}
      },
      "source": [
        "import pandas as pd\n",
        "import numpy as np\n",
        "import matplotlib.pyplot as plt\n",
        "%matplotlib inline\n",
        "import seaborn as sns\n",
        "import os\n",
        "\n",
        "df = pd.read_csv(\"/content/drive/My Drive/Colab Notebooks/the-counted-2015.csv\", encoding = \"ISO-8859-1\")\n",
        "deaths = df.copy();\n",
        "\n",
        "# Does the semi-colon always remove messages?"
      ],
      "execution_count": 0,
      "outputs": []
    },
    {
      "cell_type": "code",
      "metadata": {
        "id": "yFrad8Ckb9Q2",
        "colab_type": "code",
        "colab": {}
      },
      "source": [
        "deaths.head()"
      ],
      "execution_count": 0,
      "outputs": []
    },
    {
      "cell_type": "markdown",
      "metadata": {
        "id": "pUBxwcS44ZTY",
        "colab_type": "text"
      },
      "source": [
        "# Analysis of Police Killings\n",
        "\n",
        "The analysis will assess the correlates of police killings in the United States. I will endeavor to investiate the following:\n",
        "\n",
        "* The demographic composition of decedents;\n",
        "* The threats imposed to officers at the time of the person's death;\n",
        "* Do crime rates or population density predict your likelihood of being killed by the police?\n",
        "\n",
        "## Escape Characters\n",
        "\n",
        "The Counted is the most thorough public accounting for deadly use of force in the US\n",
        "\n",
        "The FBI runs a voluntary program through which law enforcement agencies may or may not choose to submit their annual count of “justifiable homicides”, which it defines as “the killing of a felon in the line of duty”.\n",
        "\n",
        "This system is arguably less valuable than having no system at all: fluctuations in the number of agencies choosing to report figures, plus faulty reporting by agencies that do report, have resulted in partially informed news coverage pointing misleadingly to trends that may or may not exist.\n",
        "\n",
        "Between 2005 and 2012 just 1,100 police departments – a fraction of America’s 18,000 police agencies – reported a “justifiable homicide” to the FBI.\n",
        "\n",
        "The FBI system counted 461 justifiable homicides by law enforcement in 2013, the latest year for which data is available. Crowdsourced counts found almost 300 additional fatalities during that year. The Counted, upon its launch on June 1, 2015, had already found close to that number of killings in just the first five months of 2015.\n",
        "\n",
        "Any deaths arising directly from encounters with law enforcement. This will inevitably include, but will likely not be limited to, people who were shot, tasered and struck by police vehicles as well those who died in police custody. \n",
        "\n",
        "You can find more information at [The Guardian's](https://www.theguardian.com/us-news/ng-interactive/2015/jun/01/about-the-counted) webpage."
      ]
    },
    {
      "cell_type": "code",
      "metadata": {
        "id": "OXrriJnyjj2O",
        "colab_type": "code",
        "outputId": "d4d623c9-74b9-4ea3-89a2-d95ce5b3f511",
        "colab": {
          "base_uri": "https://localhost:8080/",
          "height": 50
        }
      },
      "source": [
        "deaths.rename(columns = {'name'                 : 'decedent_name',\n",
        "                         'raceethnicity'        : 'race_ethn',\n",
        "                         'streetaddress'        : 'str_add',\n",
        "                         'lawenforcementagency' : 'agency_name'\n",
        "                         }, inplace = True)\n",
        "\n",
        "deaths['age'] = deaths['age'].replace('Unknown', np.nan).apply(float)\n",
        "\n",
        "# Combining dropping the 'non-conforming' category\n",
        "\n",
        "def flag_non_conforming(df):\n",
        "  if df['gender'] == 'Non-conforming':\n",
        "    return np.nan\n",
        "  else:\n",
        "    return df['gender']\n",
        "\n",
        "deaths['gender'] = deaths.apply(flag_non_conforming, axis = 1)\n",
        "\n",
        "# Combining race/ethnic categories\n",
        "\n",
        "def flag_comb_race_cat(df):\n",
        "  if (df['race_ethn'] == 'Arab-American' or df['race_ethn'] == 'Native American' or df['race_ethn'] == 'Other' or df['race_ethn'] == 'Unknown'):\n",
        "    return 'Other'\n",
        "  else:\n",
        "    return df['race_ethn']\n",
        "\n",
        "deaths['race_ethn'] = deaths.apply(flag_comb_race_cat, axis = 1)\n",
        "deaths['race_ethn'] = deaths['race_ethn'].astype('category')\n",
        "deaths['race_ethn'].cat.reorder_categories(['White', \n",
        "                                            'Black', \n",
        "                                            'Hispanic/Latino', \n",
        "                                            'Asian/Pacific Islander',\n",
        "                                            'Other'], inplace = True)\n",
        "\n",
        "deaths['month'] = deaths['month'].astype('category')\n",
        "deaths['month'].cat.reorder_categories(['January', \n",
        "                                        'February', \n",
        "                                        'March', \n",
        "                                        'April', \n",
        "                                        'May', \n",
        "                                        'June', \n",
        "                                        'July', \n",
        "                                        'August', \n",
        "                                        'September', \n",
        "                                        'October', \n",
        "                                        'November', \n",
        "                                        'December'], \n",
        "                                       inplace = True)\n",
        "deaths.armed.unique()"
      ],
      "execution_count": 11,
      "outputs": [
        {
          "output_type": "execute_result",
          "data": {
            "text/plain": [
              "array(['No', 'Firearm', 'Non-lethal firearm', 'Other', 'Knife', 'Vehicle',\n",
              "       'Unknown', 'Disputed'], dtype=object)"
            ]
          },
          "metadata": {
            "tags": []
          },
          "execution_count": 11
        }
      ]
    },
    {
      "cell_type": "code",
      "metadata": {
        "id": "5Jeo6UrkKX3y",
        "colab_type": "code",
        "colab": {
          "base_uri": "https://localhost:8080/",
          "height": 343
        },
        "outputId": "9006a3dc-d496-4e8e-d04c-06237bdb6121"
      },
      "source": [
        "deaths[['decedent_name', 'age', 'gender', 'race_ethn', 'month', 'day', 'city', 'state', 'armed']].head(10)"
      ],
      "execution_count": 16,
      "outputs": [
        {
          "output_type": "execute_result",
          "data": {
            "text/html": [
              "<div>\n",
              "<style scoped>\n",
              "    .dataframe tbody tr th:only-of-type {\n",
              "        vertical-align: middle;\n",
              "    }\n",
              "\n",
              "    .dataframe tbody tr th {\n",
              "        vertical-align: top;\n",
              "    }\n",
              "\n",
              "    .dataframe thead th {\n",
              "        text-align: right;\n",
              "    }\n",
              "</style>\n",
              "<table border=\"1\" class=\"dataframe\">\n",
              "  <thead>\n",
              "    <tr style=\"text-align: right;\">\n",
              "      <th></th>\n",
              "      <th>decedent_name</th>\n",
              "      <th>age</th>\n",
              "      <th>gender</th>\n",
              "      <th>race_ethn</th>\n",
              "      <th>month</th>\n",
              "      <th>day</th>\n",
              "      <th>city</th>\n",
              "      <th>state</th>\n",
              "      <th>armed</th>\n",
              "    </tr>\n",
              "  </thead>\n",
              "  <tbody>\n",
              "    <tr>\n",
              "      <th>0</th>\n",
              "      <td>Matthew Ajibade</td>\n",
              "      <td>22.0</td>\n",
              "      <td>Male</td>\n",
              "      <td>Black</td>\n",
              "      <td>January</td>\n",
              "      <td>1</td>\n",
              "      <td>Savannah</td>\n",
              "      <td>GA</td>\n",
              "      <td>No</td>\n",
              "    </tr>\n",
              "    <tr>\n",
              "      <th>1</th>\n",
              "      <td>Lewis Lembke</td>\n",
              "      <td>47.0</td>\n",
              "      <td>Male</td>\n",
              "      <td>White</td>\n",
              "      <td>January</td>\n",
              "      <td>2</td>\n",
              "      <td>Aloha</td>\n",
              "      <td>OR</td>\n",
              "      <td>Firearm</td>\n",
              "    </tr>\n",
              "    <tr>\n",
              "      <th>2</th>\n",
              "      <td>Michael Kocher Jr</td>\n",
              "      <td>19.0</td>\n",
              "      <td>Male</td>\n",
              "      <td>White</td>\n",
              "      <td>January</td>\n",
              "      <td>3</td>\n",
              "      <td>Kaumakani</td>\n",
              "      <td>HI</td>\n",
              "      <td>No</td>\n",
              "    </tr>\n",
              "    <tr>\n",
              "      <th>3</th>\n",
              "      <td>John Quintero</td>\n",
              "      <td>23.0</td>\n",
              "      <td>Male</td>\n",
              "      <td>Hispanic/Latino</td>\n",
              "      <td>January</td>\n",
              "      <td>3</td>\n",
              "      <td>Wichita</td>\n",
              "      <td>KS</td>\n",
              "      <td>No</td>\n",
              "    </tr>\n",
              "    <tr>\n",
              "      <th>4</th>\n",
              "      <td>Tim Elliott</td>\n",
              "      <td>53.0</td>\n",
              "      <td>Male</td>\n",
              "      <td>Asian/Pacific Islander</td>\n",
              "      <td>January</td>\n",
              "      <td>2</td>\n",
              "      <td>Shelton</td>\n",
              "      <td>WA</td>\n",
              "      <td>Firearm</td>\n",
              "    </tr>\n",
              "    <tr>\n",
              "      <th>5</th>\n",
              "      <td>Matthew Hoffman</td>\n",
              "      <td>32.0</td>\n",
              "      <td>Male</td>\n",
              "      <td>White</td>\n",
              "      <td>January</td>\n",
              "      <td>4</td>\n",
              "      <td>San Francisco</td>\n",
              "      <td>CA</td>\n",
              "      <td>Non-lethal firearm</td>\n",
              "    </tr>\n",
              "    <tr>\n",
              "      <th>6</th>\n",
              "      <td>Kenneth Buck</td>\n",
              "      <td>22.0</td>\n",
              "      <td>Male</td>\n",
              "      <td>Hispanic/Latino</td>\n",
              "      <td>January</td>\n",
              "      <td>5</td>\n",
              "      <td>Chandler</td>\n",
              "      <td>AZ</td>\n",
              "      <td>Firearm</td>\n",
              "    </tr>\n",
              "    <tr>\n",
              "      <th>7</th>\n",
              "      <td>Michael Rodriguez</td>\n",
              "      <td>39.0</td>\n",
              "      <td>Male</td>\n",
              "      <td>Hispanic/Latino</td>\n",
              "      <td>January</td>\n",
              "      <td>5</td>\n",
              "      <td>Evans</td>\n",
              "      <td>CO</td>\n",
              "      <td>Other</td>\n",
              "    </tr>\n",
              "    <tr>\n",
              "      <th>8</th>\n",
              "      <td>Patrick Wetter</td>\n",
              "      <td>25.0</td>\n",
              "      <td>Male</td>\n",
              "      <td>White</td>\n",
              "      <td>January</td>\n",
              "      <td>6</td>\n",
              "      <td>Stockton</td>\n",
              "      <td>CA</td>\n",
              "      <td>Knife</td>\n",
              "    </tr>\n",
              "    <tr>\n",
              "      <th>9</th>\n",
              "      <td>Brian Pickett</td>\n",
              "      <td>26.0</td>\n",
              "      <td>Male</td>\n",
              "      <td>Black</td>\n",
              "      <td>January</td>\n",
              "      <td>6</td>\n",
              "      <td>Los Angeles</td>\n",
              "      <td>CA</td>\n",
              "      <td>No</td>\n",
              "    </tr>\n",
              "  </tbody>\n",
              "</table>\n",
              "</div>"
            ],
            "text/plain": [
              "       decedent_name   age gender  ...           city state               armed\n",
              "0    Matthew Ajibade  22.0   Male  ...       Savannah    GA                  No\n",
              "1       Lewis Lembke  47.0   Male  ...          Aloha    OR             Firearm\n",
              "2  Michael Kocher Jr  19.0   Male  ...      Kaumakani    HI                  No\n",
              "3      John Quintero  23.0   Male  ...        Wichita    KS                  No\n",
              "4        Tim Elliott  53.0   Male  ...        Shelton    WA             Firearm\n",
              "5    Matthew Hoffman  32.0   Male  ...  San Francisco    CA  Non-lethal firearm\n",
              "6       Kenneth Buck  22.0   Male  ...       Chandler    AZ             Firearm\n",
              "7  Michael Rodriguez  39.0   Male  ...          Evans    CO               Other\n",
              "8     Patrick Wetter  25.0   Male  ...       Stockton    CA               Knife\n",
              "9      Brian Pickett  26.0   Male  ...    Los Angeles    CA                  No\n",
              "\n",
              "[10 rows x 9 columns]"
            ]
          },
          "metadata": {
            "tags": []
          },
          "execution_count": 16
        }
      ]
    },
    {
      "cell_type": "code",
      "metadata": {
        "id": "pJNWHoko3qUs",
        "colab_type": "code",
        "colab": {
          "base_uri": "https://localhost:8080/",
          "height": 34
        },
        "outputId": "63126546-8cf7-4547-d612-07f0f60f829d"
      },
      "source": [
        "# The suspect displays \"any weapon\" to the officer.\n",
        "\n",
        "def flag_any_weapon(df):\n",
        "  if (df['armed'] == 'No' or df['armed'] == 'Unknown' or df['armed'] == 'Disputed'):\n",
        "    return 0\n",
        "  else:\n",
        "    return 1\n",
        "\n",
        "deaths['any_weapon'] = deaths.apply(flag_any_weapon, axis = 1)\n",
        "\n",
        "# The suspect displays a \"gun (or toy gun)\" to the officer.\n",
        "\n",
        "def flag_gun(df):\n",
        "  if (df['armed'] == 'Firearm' or df['armed'] == 'Non-lethal firearm'):\n",
        "    return 1\n",
        "  else:\n",
        "    return 0\n",
        "\n",
        "deaths['gun_displayed'] = deaths.apply(flag_gun, axis = 1)\n",
        "\n",
        "# The suspect displays a \"knife\" to the officer.\n",
        "\n",
        "def flag_knife(df):\n",
        "  if (df['armed'] == 'Knife'):\n",
        "    return 1\n",
        "  else:\n",
        "    return 0\n",
        "\n",
        "deaths['knife_displayed'] = deaths.apply(flag_knife, axis = 1)\n",
        "\n",
        "# The suspect was \"unarmed (included unknown)\" at the time of death.\n",
        "\n",
        "def flag_unarmed(df):\n",
        "  if (df['armed'] == 'No' or df['armed'] == 'Unknown'):\n",
        "    return 1\n",
        "  else:\n",
        "    return 0\n",
        "\n",
        "deaths['unarmed'] = deaths.apply(flag_unarmed, axis = 1)\n",
        "\n",
        "deaths.loc[:,\"armed\"].unique()\n",
        "deaths.loc[:,\"gender\"].unique()"
      ],
      "execution_count": 26,
      "outputs": [
        {
          "output_type": "execute_result",
          "data": {
            "text/plain": [
              "array(['Male', 'Female', nan], dtype=object)"
            ]
          },
          "metadata": {
            "tags": []
          },
          "execution_count": 26
        }
      ]
    },
    {
      "cell_type": "code",
      "metadata": {
        "id": "S1HqDqVZIrWA",
        "colab_type": "code",
        "outputId": "c0428a20-6c92-4b43-ed8c-7d0bca15a991",
        "colab": {
          "base_uri": "https://localhost:8080/",
          "height": 254
        }
      },
      "source": [
        "deaths.dropna(subset = ['gender'])\n",
        "\n",
        "race_sex = pd.crosstab(index = deaths[\"race_ethn\"], \n",
        "                       columns = deaths[\"gender\"],\n",
        "                       margins = True,\n",
        "                       colnames = ['Gender:'],\n",
        "                       rownames = [\"Race/Ethnicity\"])\n",
        "race_sex"
      ],
      "execution_count": 27,
      "outputs": [
        {
          "output_type": "execute_result",
          "data": {
            "text/html": [
              "<div>\n",
              "<style scoped>\n",
              "    .dataframe tbody tr th:only-of-type {\n",
              "        vertical-align: middle;\n",
              "    }\n",
              "\n",
              "    .dataframe tbody tr th {\n",
              "        vertical-align: top;\n",
              "    }\n",
              "\n",
              "    .dataframe thead th {\n",
              "        text-align: right;\n",
              "    }\n",
              "</style>\n",
              "<table border=\"1\" class=\"dataframe\">\n",
              "  <thead>\n",
              "    <tr style=\"text-align: right;\">\n",
              "      <th>Gender:</th>\n",
              "      <th>Female</th>\n",
              "      <th>Male</th>\n",
              "      <th>All</th>\n",
              "    </tr>\n",
              "    <tr>\n",
              "      <th>Race/Ethnicity</th>\n",
              "      <th></th>\n",
              "      <th></th>\n",
              "      <th></th>\n",
              "    </tr>\n",
              "  </thead>\n",
              "  <tbody>\n",
              "    <tr>\n",
              "      <th>White</th>\n",
              "      <td>34</td>\n",
              "      <td>550</td>\n",
              "      <td>584</td>\n",
              "    </tr>\n",
              "    <tr>\n",
              "      <th>Black</th>\n",
              "      <td>12</td>\n",
              "      <td>295</td>\n",
              "      <td>307</td>\n",
              "    </tr>\n",
              "    <tr>\n",
              "      <th>Hispanic/Latino</th>\n",
              "      <td>3</td>\n",
              "      <td>191</td>\n",
              "      <td>194</td>\n",
              "    </tr>\n",
              "    <tr>\n",
              "      <th>Asian/Pacific Islander</th>\n",
              "      <td>2</td>\n",
              "      <td>22</td>\n",
              "      <td>24</td>\n",
              "    </tr>\n",
              "    <tr>\n",
              "      <th>Other</th>\n",
              "      <td>1</td>\n",
              "      <td>35</td>\n",
              "      <td>36</td>\n",
              "    </tr>\n",
              "    <tr>\n",
              "      <th>All</th>\n",
              "      <td>52</td>\n",
              "      <td>1093</td>\n",
              "      <td>1145</td>\n",
              "    </tr>\n",
              "  </tbody>\n",
              "</table>\n",
              "</div>"
            ],
            "text/plain": [
              "Gender:                 Female  Male   All\n",
              "Race/Ethnicity                            \n",
              "White                       34   550   584\n",
              "Black                       12   295   307\n",
              "Hispanic/Latino              3   191   194\n",
              "Asian/Pacific Islander       2    22    24\n",
              "Other                        1    35    36\n",
              "All                         52  1093  1145"
            ]
          },
          "metadata": {
            "tags": []
          },
          "execution_count": 27
        }
      ]
    },
    {
      "cell_type": "code",
      "metadata": {
        "id": "vqeckK2-p8Zn",
        "colab_type": "code",
        "colab": {
          "base_uri": "https://localhost:8080/",
          "height": 383
        },
        "outputId": "d13f0da3-5525-40c7-895a-b9c21d1321e3"
      },
      "source": [
        "deaths.head()"
      ],
      "execution_count": 28,
      "outputs": [
        {
          "output_type": "execute_result",
          "data": {
            "text/html": [
              "<div>\n",
              "<style scoped>\n",
              "    .dataframe tbody tr th:only-of-type {\n",
              "        vertical-align: middle;\n",
              "    }\n",
              "\n",
              "    .dataframe tbody tr th {\n",
              "        vertical-align: top;\n",
              "    }\n",
              "\n",
              "    .dataframe thead th {\n",
              "        text-align: right;\n",
              "    }\n",
              "</style>\n",
              "<table border=\"1\" class=\"dataframe\">\n",
              "  <thead>\n",
              "    <tr style=\"text-align: right;\">\n",
              "      <th></th>\n",
              "      <th>uid</th>\n",
              "      <th>decedent_name</th>\n",
              "      <th>age</th>\n",
              "      <th>gender</th>\n",
              "      <th>race_ethn</th>\n",
              "      <th>month</th>\n",
              "      <th>day</th>\n",
              "      <th>year</th>\n",
              "      <th>str_add</th>\n",
              "      <th>city</th>\n",
              "      <th>state</th>\n",
              "      <th>classification</th>\n",
              "      <th>agency_name</th>\n",
              "      <th>armed</th>\n",
              "      <th>any_weapon</th>\n",
              "      <th>gun_displayed</th>\n",
              "      <th>knife_displayed</th>\n",
              "      <th>unarmed</th>\n",
              "    </tr>\n",
              "  </thead>\n",
              "  <tbody>\n",
              "    <tr>\n",
              "      <th>0</th>\n",
              "      <td>2</td>\n",
              "      <td>Matthew Ajibade</td>\n",
              "      <td>22.0</td>\n",
              "      <td>Male</td>\n",
              "      <td>Black</td>\n",
              "      <td>January</td>\n",
              "      <td>1</td>\n",
              "      <td>2015</td>\n",
              "      <td>1050 Carl Griffin Dr</td>\n",
              "      <td>Savannah</td>\n",
              "      <td>GA</td>\n",
              "      <td>Death in custody</td>\n",
              "      <td>Chatham County Sheriff's Office</td>\n",
              "      <td>No</td>\n",
              "      <td>0</td>\n",
              "      <td>0</td>\n",
              "      <td>0</td>\n",
              "      <td>1</td>\n",
              "    </tr>\n",
              "    <tr>\n",
              "      <th>1</th>\n",
              "      <td>4</td>\n",
              "      <td>Lewis Lembke</td>\n",
              "      <td>47.0</td>\n",
              "      <td>Male</td>\n",
              "      <td>White</td>\n",
              "      <td>January</td>\n",
              "      <td>2</td>\n",
              "      <td>2015</td>\n",
              "      <td>4505 SW Masters Loop</td>\n",
              "      <td>Aloha</td>\n",
              "      <td>OR</td>\n",
              "      <td>Gunshot</td>\n",
              "      <td>Washington County Sheriff's Office</td>\n",
              "      <td>Firearm</td>\n",
              "      <td>1</td>\n",
              "      <td>1</td>\n",
              "      <td>0</td>\n",
              "      <td>0</td>\n",
              "    </tr>\n",
              "    <tr>\n",
              "      <th>2</th>\n",
              "      <td>5</td>\n",
              "      <td>Michael Kocher Jr</td>\n",
              "      <td>19.0</td>\n",
              "      <td>Male</td>\n",
              "      <td>White</td>\n",
              "      <td>January</td>\n",
              "      <td>3</td>\n",
              "      <td>2015</td>\n",
              "      <td>2600 Kaumualii Hwy</td>\n",
              "      <td>Kaumakani</td>\n",
              "      <td>HI</td>\n",
              "      <td>Struck by vehicle</td>\n",
              "      <td>Kauai Police Department</td>\n",
              "      <td>No</td>\n",
              "      <td>0</td>\n",
              "      <td>0</td>\n",
              "      <td>0</td>\n",
              "      <td>1</td>\n",
              "    </tr>\n",
              "    <tr>\n",
              "      <th>3</th>\n",
              "      <td>6</td>\n",
              "      <td>John Quintero</td>\n",
              "      <td>23.0</td>\n",
              "      <td>Male</td>\n",
              "      <td>Hispanic/Latino</td>\n",
              "      <td>January</td>\n",
              "      <td>3</td>\n",
              "      <td>2015</td>\n",
              "      <td>500 North Oliver Ave</td>\n",
              "      <td>Wichita</td>\n",
              "      <td>KS</td>\n",
              "      <td>Gunshot</td>\n",
              "      <td>Wichita Police Department</td>\n",
              "      <td>No</td>\n",
              "      <td>0</td>\n",
              "      <td>0</td>\n",
              "      <td>0</td>\n",
              "      <td>1</td>\n",
              "    </tr>\n",
              "    <tr>\n",
              "      <th>4</th>\n",
              "      <td>7</td>\n",
              "      <td>Tim Elliott</td>\n",
              "      <td>53.0</td>\n",
              "      <td>Male</td>\n",
              "      <td>Asian/Pacific Islander</td>\n",
              "      <td>January</td>\n",
              "      <td>2</td>\n",
              "      <td>2015</td>\n",
              "      <td>600 E Island Lake Dr</td>\n",
              "      <td>Shelton</td>\n",
              "      <td>WA</td>\n",
              "      <td>Gunshot</td>\n",
              "      <td>Mason County Sheriff's Office</td>\n",
              "      <td>Firearm</td>\n",
              "      <td>1</td>\n",
              "      <td>1</td>\n",
              "      <td>0</td>\n",
              "      <td>0</td>\n",
              "    </tr>\n",
              "  </tbody>\n",
              "</table>\n",
              "</div>"
            ],
            "text/plain": [
              "   uid      decedent_name   age  ... gun_displayed knife_displayed unarmed\n",
              "0    2    Matthew Ajibade  22.0  ...             0               0       1\n",
              "1    4       Lewis Lembke  47.0  ...             1               0       0\n",
              "2    5  Michael Kocher Jr  19.0  ...             0               0       1\n",
              "3    6      John Quintero  23.0  ...             0               0       1\n",
              "4    7        Tim Elliott  53.0  ...             1               0       0\n",
              "\n",
              "[5 rows x 18 columns]"
            ]
          },
          "metadata": {
            "tags": []
          },
          "execution_count": 28
        }
      ]
    },
    {
      "cell_type": "code",
      "metadata": {
        "id": "035aIon9FvwD",
        "colab_type": "code",
        "outputId": "fbd86ccb-bb1e-4b6a-98fe-8ee6751dd663",
        "colab": {
          "base_uri": "https://localhost:8080/",
          "height": 185
        }
      },
      "source": [
        "state_by_age = deaths[['gender', 'age']]\n",
        "state_by_age.groupby('gender')['age'].mean()\n",
        "deaths.groupby('armed')['knife_displayed'].mean()"
      ],
      "execution_count": 29,
      "outputs": [
        {
          "output_type": "execute_result",
          "data": {
            "text/plain": [
              "armed\n",
              "Disputed              0\n",
              "Firearm               0\n",
              "Knife                 1\n",
              "No                    0\n",
              "Non-lethal firearm    0\n",
              "Other                 0\n",
              "Unknown               0\n",
              "Vehicle               0\n",
              "Name: knife_displayed, dtype: int64"
            ]
          },
          "metadata": {
            "tags": []
          },
          "execution_count": 29
        }
      ]
    },
    {
      "cell_type": "code",
      "metadata": {
        "id": "zbDKP2CzSlLv",
        "colab_type": "code",
        "colab": {
          "base_uri": "https://localhost:8080/",
          "height": 587
        },
        "outputId": "154e4243-2e72-45bf-c9e5-7c55e45160ee"
      },
      "source": [
        "threat_types = deaths[[\"race_ethn\", \"any_weapon\", \"gun_displayed\", \"knife_displayed\", \"unarmed\"]]\n",
        "\n",
        "threat_types.rename(columns = {'race_ethn'       : 'Race/Ethnicity',\n",
        "                               'any_weapon'      : 'Dangerous Instrument',\n",
        "                               'gun_displayed'   : 'Firearm',\n",
        "                               'knife_displayed' : 'Knife',\n",
        "                               'unarmed'         : 'Unarmed'\n",
        "                               }, inplace = True)\n",
        "\n",
        "threat_types.groupby('Race/Ethnicity').mean().plot(kind = \"barh\", figsize = (12, 8)).invert_yaxis();"
      ],
      "execution_count": 31,
      "outputs": [
        {
          "output_type": "stream",
          "text": [
            "/usr/local/lib/python3.6/dist-packages/pandas/core/frame.py:4133: SettingWithCopyWarning: \n",
            "A value is trying to be set on a copy of a slice from a DataFrame\n",
            "\n",
            "See the caveats in the documentation: https://pandas.pydata.org/pandas-docs/stable/user_guide/indexing.html#returning-a-view-versus-a-copy\n",
            "  errors=errors,\n"
          ],
          "name": "stderr"
        },
        {
          "output_type": "display_data",
          "data": {
            "image/png": "[encoded data removed]",
            "text/plain": [
              "<Figure size 864x576 with 1 Axes>"
            ]
          },
          "metadata": {
            "tags": [],
            "needs_background": "light"
          }
        }
      ]
    },
    {
      "cell_type": "code",
      "metadata": {
        "id": "MOqIYeMqeBR7",
        "colab_type": "code",
        "colab": {
          "base_uri": "https://localhost:8080/",
          "height": 230
        },
        "outputId": "d2a0be34-472f-423d-c758-2952ac5e490f"
      },
      "source": [
        "plot_state_count = state_by_age.groupby('state')['state'].count().sort_values(ascending = False).head(10)\n",
        "plot_state_count.head()\n",
        "\n",
        "# The top 3 in each city\n",
        "\n",
        "#state_city = deaths.groupby(['state', 'city'])['city'].count().sort_values(ascending = False).head(10)\n",
        "#state_city\n",
        "# subset_count.groupby('state')['state'].count().sort_values(ascending = False).head(10)\n",
        "# deaths.sort_values(['state', 'city'], ascending = True).groupby('job').head(3)"
      ],
      "execution_count": 7,
      "outputs": [
        {
          "output_type": "error",
          "ename": "NameError",
          "evalue": "ignored",
          "traceback": [
            "\u001b[0;31m---------------------------------------------------------------------------\u001b[0m",
            "\u001b[0;31mNameError\u001b[0m                                 Traceback (most recent call last)",
            "\u001b[0;32m<ipython-input-7-7740c51dad01>\u001b[0m in \u001b[0;36m<module>\u001b[0;34m()\u001b[0m\n\u001b[0;32m----> 1\u001b[0;31m \u001b[0mplot_state_count\u001b[0m \u001b[0;34m=\u001b[0m \u001b[0mstate_by_age\u001b[0m\u001b[0;34m.\u001b[0m\u001b[0mgroupby\u001b[0m\u001b[0;34m(\u001b[0m\u001b[0;34m'state'\u001b[0m\u001b[0;34m)\u001b[0m\u001b[0;34m[\u001b[0m\u001b[0;34m'state'\u001b[0m\u001b[0;34m]\u001b[0m\u001b[0;34m.\u001b[0m\u001b[0mcount\u001b[0m\u001b[0;34m(\u001b[0m\u001b[0;34m)\u001b[0m\u001b[0;34m.\u001b[0m\u001b[0msort_values\u001b[0m\u001b[0;34m(\u001b[0m\u001b[0mascending\u001b[0m \u001b[0;34m=\u001b[0m \u001b[0;32mFalse\u001b[0m\u001b[0;34m)\u001b[0m\u001b[0;34m.\u001b[0m\u001b[0mhead\u001b[0m\u001b[0;34m(\u001b[0m\u001b[0;36m10\u001b[0m\u001b[0;34m)\u001b[0m\u001b[0;34m\u001b[0m\u001b[0;34m\u001b[0m\u001b[0m\n\u001b[0m\u001b[1;32m      2\u001b[0m \u001b[0mplot_state_count\u001b[0m\u001b[0;34m.\u001b[0m\u001b[0mhead\u001b[0m\u001b[0;34m(\u001b[0m\u001b[0;34m)\u001b[0m\u001b[0;34m\u001b[0m\u001b[0;34m\u001b[0m\u001b[0m\n\u001b[1;32m      3\u001b[0m \u001b[0;34m\u001b[0m\u001b[0m\n\u001b[1;32m      4\u001b[0m \u001b[0;31m# The top 3 in each city\u001b[0m\u001b[0;34m\u001b[0m\u001b[0;34m\u001b[0m\u001b[0;34m\u001b[0m\u001b[0m\n\u001b[1;32m      5\u001b[0m \u001b[0;34m\u001b[0m\u001b[0m\n",
            "\u001b[0;31mNameError\u001b[0m: name 'state_by_age' is not defined"
          ]
        }
      ]
    },
    {
      "cell_type": "code",
      "metadata": {
        "id": "XNYRqNznrxZq",
        "colab_type": "code",
        "colab": {
          "base_uri": "https://localhost:8080/",
          "height": 252
        },
        "outputId": "47cd4302-b72a-4ac9-8af3-d0b4778a79c3"
      },
      "source": [
        "plot_state_count = deaths.groupby(['state', 'city']).city.agg('count').to_frame('count').reset_index()\n",
        "\n",
        "# There are 121\n",
        "\n",
        "state_and_city = plot_state_count.sort_values(by = \"count\", ascending = False).head(20)\n",
        "#state_and_city.groupby(\"state\")['state'].count().sort_values(ascending = False)"
      ],
      "execution_count": 25,
      "outputs": [
        {
          "output_type": "execute_result",
          "data": {
            "text/plain": [
              "state\n",
              "CA    5\n",
              "TX    4\n",
              "FL    2\n",
              "OK    1\n",
              "OH    1\n",
              "NY    1\n",
              "NV    1\n",
              "IN    1\n",
              "IL    1\n",
              "DC    1\n",
              "CO    1\n",
              "AZ    1\n",
              "Name: state, dtype: int64"
            ]
          },
          "metadata": {
            "tags": []
          },
          "execution_count": 25
        }
      ]
    },
    {
      "cell_type": "code",
      "metadata": {
        "id": "3boZOKjxgx0T",
        "colab_type": "code",
        "colab": {
          "base_uri": "https://localhost:8080/",
          "height": 448
        },
        "outputId": "aa3266b4-0fc0-4aa0-b8fc-2bd565cc90a1"
      },
      "source": [
        "sns.set_style(\"white\")\n",
        "dims = (10, 6)\n",
        "fig, ax = plt.subplots(figsize = (dims))\n",
        "fig.suptitle('Distributions of Deaths, by Age')\n",
        "sns.distplot(deaths['age'], label = deaths['gender'], bins = 40, hist = True, kde = True, color = '#2ecc71', ax = ax)\n",
        "plt.xlabel(\"Age at Death\")\n",
        "plt.ylabel(\"Density\")"
      ],
      "execution_count": 7,
      "outputs": [
        {
          "output_type": "execute_result",
          "data": {
            "text/plain": [
              "Text(0, 0.5, 'Density')"
            ]
          },
          "metadata": {
            "tags": []
          },
          "execution_count": 7
        },
        {
          "output_type": "display_data",
          "data": {
            "image/png": "[encoded data removed]",
            "text/plain": [
              "<Figure size 720x432 with 1 Axes>"
            ]
          },
          "metadata": {
            "tags": []
          }
        }
      ]
    },
    {
      "cell_type": "code",
      "metadata": {
        "id": "x9UM1zmK9jHI",
        "colab_type": "code",
        "colab": {
          "base_uri": "https://localhost:8080/",
          "height": 491
        },
        "outputId": "edb7b122-54d1-4687-c2c1-28d530ce44dd"
      },
      "source": [
        "sns.set_style(\"white\")\n",
        "dims = (10, 6)\n",
        "fig, ax = plt.subplots(figsize = (dims))\n",
        "x1 = deaths.loc[deaths.gender == 'Male', 'age']\n",
        "x2 = deaths.loc[deaths.gender == 'Female', 'age']\n",
        "kwargs = dict(alpha = 0.5, bins = 50)\n",
        "plt.hist(x1, **kwargs, color = 'g', label = 'Men')\n",
        "plt.hist(x2, **kwargs, color = 'b', label = 'Women')\n",
        "plt.gca().set(title = 'Distribution of Age, by Gender', ylabel = 'Frequency')\n",
        "plt.axvline(39, color = 'g', linestyle = 'dashed', linewidth = 2)\n",
        "plt.axvline(37, color = 'b', linestyle = 'dashed', linewidth = 2)\n",
        "plt.text(40, 80, r'$\\bar{x}_{Men}$: 39 Years; $\\hat{\\sigma}_{M}$: 12.7')\n",
        "plt.text(40, 75, r'$\\bar{x}_{Women}$: 37 Years; $\\hat{\\sigma}_{W}$: 7.5')\n",
        "plt.xlabel(\"Age at Death\")\n",
        "plt.xlim(0, 90)\n",
        "plt.legend();"
      ],
      "execution_count": 69,
      "outputs": [
        {
          "output_type": "stream",
          "text": [
            "/usr/local/lib/python3.6/dist-packages/numpy/lib/histograms.py:839: RuntimeWarning: invalid value encountered in greater_equal\n",
            "  keep = (tmp_a >= first_edge)\n",
            "/usr/local/lib/python3.6/dist-packages/numpy/lib/histograms.py:840: RuntimeWarning: invalid value encountered in less_equal\n",
            "  keep &= (tmp_a <= last_edge)\n"
          ],
          "name": "stderr"
        },
        {
          "output_type": "display_data",
          "data": {
            "image/png": "[encoded data removed]",
            "text/plain": [
              "<Figure size 720x432 with 1 Axes>"
            ]
          },
          "metadata": {
            "tags": []
          }
        }
      ]
    },
    {
      "cell_type": "code",
      "metadata": {
        "id": "9G8ZdM2OjsJR",
        "colab_type": "code",
        "colab": {
          "base_uri": "https://localhost:8080/",
          "height": 435
        },
        "outputId": "75968be9-6f9a-4c0f-9666-adecfaec5d12"
      },
      "source": [
        "sns.set_style(\"white\")\n",
        "p = sns.catplot(x = \"age\", \n",
        "                y = \"race_ethn\", \n",
        "                kind = \"violin\", \n",
        "                hue = \"gender\", \n",
        "                split = True,\n",
        "                order = [\"White\", \"Black\", \"Hispanic/Latino\"], \n",
        "                inner = \"quartile\", data = deaths)\n",
        "p.fig.suptitle('Distributions of Police Killings, by Age & Gender')\n",
        "p._legend.set_title(\"Gender \\nDistribution:\")\n",
        "p.set_yticklabels(rotation = 20)\n",
        "p.set(xlabel = 'Age at Death', ylabel = 'Age Density')\n",
        "p.fig.set_size_inches(14, 6)"
      ],
      "execution_count": 64,
      "outputs": [
        {
          "output_type": "display_data",
          "data": {
            "image/png": "[encoded data removed]",
            "text/plain": [
              "<Figure size 1008x432 with 1 Axes>"
            ]
          },
          "metadata": {
            "tags": []
          }
        }
      ]
    },
    {
      "cell_type": "code",
      "metadata": {
        "id": "B2_kapOmqjPy",
        "colab_type": "code",
        "colab": {
          "base_uri": "https://localhost:8080/",
          "height": 703
        },
        "outputId": "66415b26-865d-464e-d678-42185f8f5c19"
      },
      "source": [
        "sns.set_style(\"white\")\n",
        "p2 = sns.catplot(y = \"state\", kind = \"count\", edgecolor = \".6\", order = deaths[\"state\"].value_counts().index, data = deaths)\n",
        "p2.fig.set_size_inches(12, 10)\n",
        "p2.set(xlabel = 'Total Killed by Police (Within-State)', ylabel = 'U.S. States');"
      ],
      "execution_count": 102,
      "outputs": [
        {
          "output_type": "display_data",
          "data": {
            "image/png": "[encoded data removed]",
            "text/plain": [
              "<Figure size 864x720 with 1 Axes>"
            ]
          },
          "metadata": {
            "tags": []
          }
        }
      ]
    },
    {
      "cell_type": "code",
      "metadata": {
        "id": "QF5bqevDJOE1",
        "colab_type": "code",
        "colab": {}
      },
      "source": [
        "sns.set_style(\"white\")\n",
        "p2 = sns.catplot(y = \"agency_name\", kind = \"count\", edgecolor = \".6\", order = deaths[\"agency_name\"].value_counts().index, data = deaths)\n",
        "p2.fig.set_size_inches(12, 10);"
      ],
      "execution_count": 0,
      "outputs": []
    },
    {
      "cell_type": "code",
      "metadata": {
        "id": "JwTpKzOAfHJR",
        "colab_type": "code",
        "colab": {
          "base_uri": "https://localhost:8080/",
          "height": 386
        },
        "outputId": "4c38aae1-69fe-431f-a34a-b6acbe149bcf"
      },
      "source": [
        "deaths.groupby('agency_name')['agency_name'].count().sort_values(ascending = False).head(20)\n",
        " # Group by State and Agency, then count the number of agencies in each state."
      ],
      "execution_count": 101,
      "outputs": [
        {
          "output_type": "execute_result",
          "data": {
            "text/plain": [
              "agency_name\n",
              "Los Angeles Police Department                  22\n",
              "Los Angeles County Sheriff's Department        16\n",
              "Houston Police Department                      11\n",
              "New York Police Department                     10\n",
              "Chicago Police Department                      10\n",
              "Las Vegas Metropolitan Police Department        9\n",
              "Indianapolis Metropolitan Police Department     9\n",
              "Oklahoma City Police Department                 8\n",
              "Phoenix Police Department                       8\n",
              "San Francisco Police Department                 8\n",
              "Austin Police Department                        8\n",
              "Miami-Dade Police Department                    7\n",
              "Dallas Police Department                        7\n",
              "Riverside County Sheriff's Department           7\n",
              "San Diego Police Department                     7\n",
              "Jacksonville Sheriff's Office                   6\n",
              "Bakersfield Police Department                   6\n",
              "Pennsylvania State Police                       6\n",
              "San Jose Police Department                      6\n",
              "San Antonio Police Department                   5\n",
              "Name: agency_name, dtype: int64"
            ]
          },
          "metadata": {
            "tags": []
          },
          "execution_count": 101
        }
      ]
    }
  ]
}